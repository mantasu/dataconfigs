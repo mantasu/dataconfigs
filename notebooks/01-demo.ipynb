{
 "cells": [
  {
   "cell_type": "markdown",
   "metadata": {},
   "source": [
    "# End-to-End Demo"
   ]
  },
  {
   "cell_type": "markdown",
   "metadata": {},
   "source": [
    "## Setup"
   ]
  },
  {
   "cell_type": "code",
   "execution_count": 1,
   "metadata": {},
   "outputs": [],
   "source": [
    "%pip install dataconfigs"
   ]
  },
  {
   "cell_type": "code",
   "execution_count": 2,
   "metadata": {},
   "outputs": [],
   "source": [
    "from dataclasses import dataclass, is_dataclass, InitVar, field\n",
    "from dataconfigs import configurable, show_config_params"
   ]
  },
  {
   "cell_type": "markdown",
   "metadata": {},
   "source": [
    "## Demo"
   ]
  },
  {
   "cell_type": "markdown",
   "metadata": {},
   "source": [
    "### Config"
   ]
  },
  {
   "cell_type": "code",
   "execution_count": 3,
   "metadata": {},
   "outputs": [],
   "source": [
    "@dataclass\n",
    "class MyConfig:\n",
    "    \"\"\"My config class\n",
    "\n",
    "    Args:\n",
    "        param1: Parameter 1 (required). Defaults to 0.\n",
    "        param2: Parameter 2 (optional). Defaults to param2.\n",
    "        param3: Parameter 3 (not configurable and not visible).\n",
    "    \"\"\"\n",
    "    param1: InitVar[int]\n",
    "    param2: str = \"param2\"\n",
    "    param3: float = field(init=False)\n",
    "\n",
    "    def __post_init__(self, param1: int) -> None:\n",
    "        # We set the param 3 here\n",
    "        self.param3 = param1 / 3"
   ]
  },
  {
   "cell_type": "markdown",
   "metadata": {},
   "source": [
    "### Configurable"
   ]
  },
  {
   "cell_type": "code",
   "execution_count": 4,
   "metadata": {},
   "outputs": [],
   "source": [
    "@configurable\n",
    "class MyConfigurable(MyConfig):\n",
    "    def __init__(self, attr1=1, attr2=2):\n",
    "        # This is non-config attr\n",
    "        self.attr = attr1 + attr2\n",
    "        print(f\"{self.attr=}\")\n",
    "        \n",
    "        # Formerly, config attrs\n",
    "        print(f\"{self.param2=}\") \n",
    "        print(f\"{self.param3=}\")\n",
    "        assert not hasattr(self, \"param1\") # It was InitVar only!\n",
    "\n",
    "# Even though MyConfig is a dataclass, MyConfigurable DOES NOT inherit\n",
    "# from it, i.e., only attributes are copied. Very convenient because,\n",
    "# semantically, PyLint still links Configurable params to MyConfig\n",
    "assert not is_dataclass(MyConfigurable)"
   ]
  },
  {
   "cell_type": "markdown",
   "metadata": {},
   "source": [
    "### Instance"
   ]
  },
  {
   "cell_type": "code",
   "execution_count": 5,
   "metadata": {},
   "outputs": [
    {
     "name": "stdout",
     "output_type": "stream",
     "text": [
      "self.attr=100\n",
      "self.param2='PARAM2'\n",
      "self.param3=0.3333333333333333\n"
     ]
    }
   ],
   "source": [
    "# Init configurable (note how config param2 is overridden)\n",
    "obj = MyConfigurable(attr2=99, param1=1, param2=\"PARAM2\")"
   ]
  },
  {
   "cell_type": "code",
   "execution_count": 6,
   "metadata": {},
   "outputs": [
    {
     "name": "stdout",
     "output_type": "stream",
     "text": [
      "MyConfigurable class config parameters (global defaults):\n",
      "        * param2 (str): Parameter 2 (optional). Defaults to param2.\n",
      "        * param1 (int): Parameter 1 (required). Defaults to 0.\n",
      "MyConfigurable instance config parameters (local defaults):\n",
      "        * param2 (str): Parameter 2 (optional). Defaults to PARAM2.\n",
      "        * param1 (int): Parameter 1 (required). Defaults to 1.\n"
     ]
    }
   ],
   "source": [
    "show_config_params(MyConfigurable)\n",
    "show_config_params(obj)"
   ]
  },
  {
   "cell_type": "markdown",
   "metadata": {},
   "source": [
    "### Alternative 1: Outer Config"
   ]
  },
  {
   "cell_type": "code",
   "execution_count": 7,
   "metadata": {},
   "outputs": [
    {
     "name": "stdout",
     "output_type": "stream",
     "text": [
      "MyConfigurable class config parameters (global defaults):\n",
      "        * param2 (str): Parameter 2 (optional). Defaults to param2.\n",
      "        * param1 (int): Parameter 1 (required). Defaults to 0.\n"
     ]
    }
   ],
   "source": [
    "@configurable(config=MyConfig) # <- Pass MyConfig as `config` parameter\n",
    "class MyConfigurable:\n",
    "    def __init__(self, attr1=1, attr2=2):\n",
    "        pass\n",
    "\n",
    "# This is equivalent to the previous example\n",
    "show_config_params(MyConfigurable)"
   ]
  },
  {
   "cell_type": "markdown",
   "metadata": {},
   "source": [
    "### Alternative 2: Inner Config"
   ]
  },
  {
   "cell_type": "code",
   "execution_count": 8,
   "metadata": {},
   "outputs": [
    {
     "name": "stdout",
     "output_type": "stream",
     "text": [
      "MyConfigurable class config parameters (global defaults):\n",
      "        * param2 (str): Parameter 2 (optional). Defaults to param2.\n",
      "        * param1 (int): Parameter 1 (required). Defaults to 0.\n"
     ]
    }
   ],
   "source": [
    "@configurable\n",
    "class MyConfigurable:\n",
    "    ############### Any Inner configs can be defined here ##############\n",
    "    @dataclass\n",
    "    class MyConfig:\n",
    "        \"\"\"\n",
    "        Args:\n",
    "            param1: Parameter 1 (required). Defaults to 0.\n",
    "            param2: Parameter 2 (optional). Defaults to param2.\n",
    "        \"\"\"\n",
    "        param1: InitVar[int]\n",
    "        param2: str = \"param2\"\n",
    "        param3: float = field(init=False)\n",
    "\n",
    "        def __post_init__(self, param1: int) -> None:\n",
    "            # We set the param 3 here\n",
    "            self.param3 = param1 / 3\n",
    "\n",
    "    ######################## Rest of the class #########################\n",
    "    def __init__(self, attr1=1, attr2=2):\n",
    "        pass\n",
    "\n",
    "# This is equivalent to the previous example\n",
    "show_config_params(MyConfigurable)"
   ]
  },
  {
   "cell_type": "markdown",
   "metadata": {},
   "source": [
    "### Multiple Configs"
   ]
  },
  {
   "cell_type": "code",
   "execution_count": 9,
   "metadata": {},
   "outputs": [
    {
     "name": "stdout",
     "output_type": "stream",
     "text": [
      "self.param2='param2', self.param3=0.3333333333333333, self.param4=False\n",
      "MyConfigurable instance config parameters (local defaults):\n",
      "        * param2 (str): Parameter 2 (optional). Defaults to param2.\n",
      "        * param1 (int): Parameter 1 (required). Defaults to 1.\n",
      "        * param4 (bool): The fourth parameter from another config. Defaults to False.\n"
     ]
    }
   ],
   "source": [
    "@dataclass\n",
    "class MyConfig2:\n",
    "    \"\"\"\n",
    "    :param param4: The fourth parameter from another config.\n",
    "    \"\"\"\n",
    "    param4: bool = False\n",
    "\n",
    "@configurable(config=(MyConfig, MyConfig2)) # <- pass here, extend, or define as inner\n",
    "class MyConfigurable:\n",
    "    def __init__(self, attr1=1, attr2=2):\n",
    "        print(f\"{self.param2=}, {self.param3=}, {self.param4=}\") \n",
    "\n",
    "# param4 is now shown as configurable parameter as well\n",
    "# Note how \"Defaults to\" is also added automatically\n",
    "show_config_params(MyConfigurable(param1=1))"
   ]
  }
 ],
 "metadata": {
  "kernelspec": {
   "display_name": "dataconfigs",
   "language": "python",
   "name": "python3"
  },
  "language_info": {
   "codemirror_mode": {
    "name": "ipython",
    "version": 3
   },
   "file_extension": ".py",
   "mimetype": "text/x-python",
   "name": "python",
   "nbconvert_exporter": "python",
   "pygments_lexer": "ipython3",
   "version": "3.12.7"
  }
 },
 "nbformat": 4,
 "nbformat_minor": 2
}
